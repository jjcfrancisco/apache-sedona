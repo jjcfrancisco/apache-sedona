{
 "cells": [
  {
   "cell_type": "code",
   "execution_count": null,
   "id": "8f1ff86e-ea98-4de9-bc90-2e855fe07c46",
   "metadata": {},
   "outputs": [],
   "source": [
    "import os\n",
    "from pyspark.sql import SparkSession\n",
    "from sedona.register import SedonaRegistrator\n",
    "from sedona.utils import KryoSerializer, SedonaKryoRegistrator"
   ]
  },
  {
   "cell_type": "code",
   "execution_count": null,
   "id": "9b569aa8-6a17-4751-9ed6-0f49c704f522",
   "metadata": {},
   "outputs": [],
   "source": [
    "extra_jars_dir:str = os.path.join(os.environ[\"SPARK_HOME\"], \"extra_jars\")\n",
    "extra_jars:list = [os.path.join(extra_jars_dir, x) for x in os.listdir(extra_jars_dir)]\n",
    "\n",
    "spark:SparkSession = SparkSession. \\\n",
    "                   builder. \\\n",
    "                   master(\"local[*]\").\\\n",
    "                   appName(\"my_sedona_app\"). \\\n",
    "                   config(\"spark.serializer\", KryoSerializer.getName). \\\n",
    "                   config(\"spark.kryo.registrator\", SedonaKryoRegistrator.getName). \\\n",
    "                   config('spark.jars.packages',\n",
    "                          'org.apache.sedona:sedona-python-adapter-3.0_2.12:1.2.1-incubating,'\n",
    "                          'org.datasyslab:geotools-wrapper:1.3.0-27.2'). \\\n",
    "                   config(\"spark.jars\", \",\".join(extra_jars)).\\\n",
    "                   enableHiveSupport(). \\\n",
    "                   getOrCreate()\n",
    "\n",
    "SedonaRegistrator.registerAll(spark)\n",
    "spark.sparkContext.setLogLevel(\"ERROR\")"
   ]
  },
  {
   "cell_type": "code",
   "execution_count": null,
   "id": "e37b5d3b-07a1-40a3-ad39-5a2052217762",
   "metadata": {},
   "outputs": [],
   "source": [
    "mineral_resources = spark.read.csv(\"Resources.txt\", sep ='\\t', header = True)\n",
    "coordinates = spark.read.csv(\"Coords.txt\", sep ='\\t', header = True)\n",
    "location = spark.read.csv(\"Location.txt\", sep ='\\t', header = True)"
   ]
  },
  {
   "cell_type": "code",
   "execution_count": null,
   "id": "878743c8-fed4-4323-a0a4-e25348a82088",
   "metadata": {},
   "outputs": [],
   "source": [
    "coordinates_only = coordinates.select(\"wgs84_lon\", \"wgs84_lat\", \"dep_id\")\n",
    "states = location.select(\"dep_id\", \"state_prov\")\n",
    "join = mineral_resources.join(coordinates_only, \"dep_id\", \"inner\").join(states, \"dep_id\", \"inner\")"
   ]
  },
  {
   "cell_type": "code",
   "execution_count": null,
   "id": "884413a3-5236-42be-95b4-0c0ddba20fb3",
   "metadata": {},
   "outputs": [],
   "source": [
    "join = join.withColumn(\"wgs84_lon\",join.wgs84_lon.cast('double')).withColumn(\"wgs84_lat\",join.wgs84_lat.cast('double'))"
   ]
  },
  {
   "cell_type": "code",
   "execution_count": null,
   "id": "7d14aa80-892d-4ad1-9b7f-8e1b64b13433",
   "metadata": {},
   "outputs": [],
   "source": [
    "join.createOrReplaceTempView(\"mineral_resources\")"
   ]
  },
  {
   "cell_type": "code",
   "execution_count": null,
   "id": "820482d6-ea6a-40d9-81c2-23ef2e66f9d4",
   "metadata": {},
   "outputs": [],
   "source": [
    "spark.sql(\"CREATE TABLE mineral_resources_with_geom AS (SELECT *, ST_SetSRID(ST_Point(wgs84_lon, wgs84_lat), 4326) AS geom FROM mineral_resources);\")"
   ]
  },
  {
   "cell_type": "code",
   "execution_count": null,
   "id": "392d527f-c233-4e1c-ac7c-b15e819a0902",
   "metadata": {},
   "outputs": [],
   "source": [
    "sql_query = \"WITH california AS (SELECT geom AS geom_cal FROM mineral_resources_with_geom WHERE state_prov = 'California'),\\\n",
    "             texas AS (SELECT geom AS geom_tex FROM mineral_resources_with_geom WHERE state_prov = 'Texas')\\\n",
    "             SELECT AVG(ST_Distance(geom_cal, geom_tex)) FROM california, texas\"\n",
    "spark.sql(sql_query).show()"
   ]
  },
  {
   "cell_type": "code",
   "execution_count": null,
   "id": "247d5601-89e3-40cd-aa12-64a60e012491",
   "metadata": {},
   "outputs": [],
   "source": []
  }
 ],
 "metadata": {
  "kernelspec": {
   "display_name": "Python 3 (ipykernel)",
   "language": "python",
   "name": "python3"
  },
  "language_info": {
   "codemirror_mode": {
    "name": "ipython",
    "version": 3
   },
   "file_extension": ".py",
   "mimetype": "text/x-python",
   "name": "python",
   "nbconvert_exporter": "python",
   "pygments_lexer": "ipython3",
   "version": "3.10.6"
  }
 },
 "nbformat": 4,
 "nbformat_minor": 5
}
